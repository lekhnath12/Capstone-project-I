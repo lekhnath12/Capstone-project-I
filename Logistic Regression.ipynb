{
 "cells": [
  {
   "cell_type": "markdown",
   "metadata": {},
   "source": [
    "<h2><center> Logistic Regression</center></h2>\n",
    "\n",
    "In this section, we do a statistical modelling of the data to predict whether a driver gets warning or citation for the particular violation using logistic regression. "
   ]
  },
  {
   "cell_type": "code",
   "execution_count": 1,
   "metadata": {},
   "outputs": [],
   "source": [
    "import pandas as pd\n",
    "import matplotlib.pyplot as plt\n",
    "import numpy as np\n",
    "import seaborn as sns\n",
    "from sklearn.model_selection import train_test_split, GridSearchCV, RandomizedSearchCV\n",
    "from sklearn import metrics\n",
    "from sklearn.linear_model import LogisticRegression, SGDClassifier\n",
    "from sklearn.metrics import classification_report, roc_curve, confusion_matrix\n",
    "from sklearn.model_selection import cross_val_score\n",
    "from sklearn.metrics import roc_auc_score\n"
   ]
  },
  {
   "cell_type": "code",
   "execution_count": 2,
   "metadata": {},
   "outputs": [],
   "source": [
    "# Read the accident data from csv\n",
    "df_traffic = pd.read_csv('data_wrangled.csv', \n",
    "                         index_col = 'Date Of Stop_Time Of Stop',\n",
    "                         parse_dates = True,\n",
    "                         infer_datetime_format = True)\n",
    "\n",
    "df_traffic['V_sage'] = (df_traffic.V_Age - df_traffic.V_Age.min())/\\\n",
    "                  (df_traffic.V_Age.max() - df_traffic.V_Age.min())\n",
    "\n",
    "not_relevant = ['Latitude', 'Longitude', 'Year', 'Description', \n",
    "                'Make', 'Model', 'Color', 'datetime', 'V_Age']\n",
    "df_traffic.drop(labels = not_relevant, axis = 1,  inplace = True)"
   ]
  },
  {
   "cell_type": "code",
   "execution_count": 3,
   "metadata": {},
   "outputs": [],
   "source": [
    "# Get X and y from data \n",
    "y = df_traffic['Violation Type_Warning']\n",
    "df_X1 = df_traffic.drop('Violation Type_Warning', axis = 1)\n",
    "X = df_X1.values\n",
    "\n",
    "# now,  do a Logistic regression to the data. \n",
    "X_train, X_test, y_train, y_test = train_test_split(X, y, \n",
    "                                   test_size = 0.5, \n",
    "                                   random_state=77)"
   ]
  },
  {
   "cell_type": "markdown",
   "metadata": {},
   "source": [
    "At the first step, we begin if we can make a prediction using simple logistic regression. We first optimize the regression using randomized search. The best parameters obtained from randomized search will be used to make the prediction. "
   ]
  },
  {
   "cell_type": "code",
   "execution_count": 4,
   "metadata": {},
   "outputs": [
    {
     "name": "stdout",
     "output_type": "stream",
     "text": [
      "Tuned Logistic Regression Parameters: {'solver': 'newton-cg', 'random_state': 77, 'intercept_scaling': 2.8, 'fit_intercept': True, 'C': 2329.951810515372}\n",
      "Best score is 0.7593341563073974\n"
     ]
    }
   ],
   "source": [
    "# Setup the hyperparameter grid for a randomized grid search\n",
    "param_grid = {'C': np.logspace(-5,5,50), 'fit_intercept': [True, False],\n",
    "             'intercept_scaling': np.arange(0.05, 10, 0.25), \n",
    "             'solver': ['newton-cg', 'lbfgs', 'liblinear', 'sag', 'saga'] ,\n",
    "             'random_state': [77]}\n",
    "\n",
    "# Instantiate a logistic regression classifier: Random Forest\n",
    "logreg = LogisticRegression()\n",
    "\n",
    "# Instantiate the GridSearchCV object: logreg_cv\n",
    "model_lr = RandomizedSearchCV(logreg, param_grid, \n",
    "                              cv = 5, \n",
    "                              n_jobs = -1)\n",
    "\n",
    "# Fit it to the data\n",
    "model_lr.fit(X, y)\n",
    "\n",
    "# Print the tuned parameters and score\n",
    "print(\"Tuned Logistic Regression Parameters: {}\".format(model_lr.best_params_)) \n",
    "print(\"Best score is {}\".format(model_lr.best_score_))\n"
   ]
  },
  {
   "cell_type": "code",
   "execution_count": 5,
   "metadata": {
    "scrolled": false
   },
   "outputs": [
    {
     "name": "stdout",
     "output_type": "stream",
     "text": [
      "[[199183  87981]\n",
      " [ 55218 258690]]\n",
      "             precision    recall  f1-score   support\n",
      "\n",
      "    Citaton       0.78      0.69      0.74    287164\n",
      "    Warning       0.75      0.82      0.78    313908\n",
      "\n",
      "avg / total       0.76      0.76      0.76    601072\n",
      "\n"
     ]
    },
    {
     "data": {
      "image/png": "[encoded data removed]",
      "text/plain": [
       "<Figure size 432x288 with 1 Axes>"
      ]
     },
     "metadata": {
      "needs_background": "light"
     },
     "output_type": "display_data"
    }
   ],
   "source": [
    "logreg = LogisticRegression(solver = 'newton-cg', n_jobs = -1, intercept_scaling = 0.55,\n",
    "                            fit_intercept = True, C = 0.3089,\n",
    "                            multi_class = 'ovr', class_weight =  'balanced',\n",
    "                            random_state = 77)\n",
    "\n",
    "# Fit the classifier to the training data\n",
    "logreg.fit(X_train, y_train)\n",
    "\n",
    "logreg.fit(X_train, y_train)\n",
    "y_pred = logreg.predict(X_test)\n",
    "\n",
    "print(confusion_matrix(y_test, y_pred))\n",
    "print(classification_report(y_test, y_pred,  target_names = ['Citaton', 'Warning']))\n",
    "\n",
    "y_pred_prob = logreg.predict_proba(X_test)[:,1]\n",
    "\n",
    "fpr_lr,tpr_lr, thresholds_lr = roc_curve(y_test, y_pred_prob)\n",
    "\n",
    "plt.plot([0, 1], [0, 1], 'k--', fpr_lr, tpr_lr, 'r')\n",
    "\n",
    "# Plot ROC curve\n",
    "plt.xlabel('False Positive Rate')\n",
    "plt.ylabel('True Positive Rate')\n",
    "plt.title(\"AUC: %5.3f \"%( roc_auc_score(y_test, y_pred_prob)))\n",
    "\n",
    "#plt.title('ROC Curve')\n",
    "plt.show()"
   ]
  },
  {
   "cell_type": "code",
   "execution_count": 6,
   "metadata": {
    "scrolled": false
   },
   "outputs": [
    {
     "name": "stderr",
     "output_type": "stream",
     "text": [
      "G:\\Anaconda\\lib\\site-packages\\scipy\\stats\\stats.py:1713: FutureWarning: Using a non-tuple sequence for multidimensional indexing is deprecated; use `arr[tuple(seq)]` instead of `arr[seq]`. In the future this will be interpreted as an array index, `arr[np.array(seq)]`, which will result either in an error or a different result.\n",
      "  return np.add.reduce(sorted[indexer] * weights, axis=axis) / sumval\n"
     ]
    },
    {
     "data": {
      "image/png": "[encoded data removed]",
      "text/plain": [
       "<Figure size 432x288 with 1 Axes>"
      ]
     },
     "metadata": {
      "needs_background": "light"
     },
     "output_type": "display_data"
    }
   ],
   "source": [
    "y_pred_prob = logreg.predict_proba(X)[:,1]\n",
    "ypp = pd.DataFrame(data = y_pred_prob, columns = ['predicted'])\n",
    "ypp['real'] = y.values\n",
    "\n",
    "ypp1 = ypp[ypp.real == 1]\n",
    "ypp0 = ypp[ypp.real == 0]\n",
    "ax = sns.kdeplot(ypp1.predicted, shade=True, color=\"b\", label = 'Warning')\n",
    "sns.kdeplot(ypp0.predicted, shade=True, color=\"r\", ax = ax, label = 'citation')\n",
    "\n",
    "plt.fill_between([-0.05,0.5], 0, 10, color = 'g', alpha = 0.2)\n",
    "plt.fill_between([0.5,1.05], 0, 10, color = 'b', alpha = 0.2)\n",
    "\n",
    "plt.xlabel('Predicted probability')\n",
    "plt.ylabel('probabity')\n",
    "plt.show()"
   ]
  },
  {
   "cell_type": "code",
   "execution_count": 7,
   "metadata": {},
   "outputs": [
    {
     "data": {
      "text/plain": [
       "['Logistic_regression.joblib']"
      ]
     },
     "execution_count": 7,
     "metadata": {},
     "output_type": "execute_result"
    }
   ],
   "source": [
    "from joblib import dump, load\n",
    "dump(logreg, 'Logistic_regression.joblib') \n",
    "#logreg2 = load('Logistic_regression.joblib') "
   ]
  }
 ],
 "metadata": {
  "kernelspec": {
   "display_name": "Python 3",
   "language": "python",
   "name": "python3"
  },
  "language_info": {
   "codemirror_mode": {
    "name": "ipython",
    "version": 3
   },
   "file_extension": ".py",
   "mimetype": "text/x-python",
   "name": "python",
   "nbconvert_exporter": "python",
   "pygments_lexer": "ipython3",
   "version": "3.7.0"
  }
 },
 "nbformat": 4,
 "nbformat_minor": 2
}
