{
 "cells": [
  {
   "cell_type": "markdown",
   "metadata": {},
   "source": [
    "<h2><center> Capstone Project 1: Inferential Statistics</center></h2>\n",
    "\n",
    "In this section, I present an analysis of data using inferntial statistics. I will test the statistical significance of various observations raised in <b>[Data Story](https://github.com/lekhnath12/Traffic_violation_Montgomery/blob/gh-pages/Data_Story.ipynb)</b> section. For all statistical analysis, we set level of signifiance to be 1%. "
   ]
  },
  {
   "cell_type": "code",
   "execution_count": 1,
   "metadata": {},
   "outputs": [],
   "source": [
    "#import necessary modules\n",
    "\n",
    "import pandas as pd\n",
    "import matplotlib.pyplot as plt\n",
    "import numpy as np\n",
    "import seaborn as sns\n",
    "import scipy.stats as st\n",
    "from datetime import datetime\n",
    "from sklearn.feature_extraction.text import CountVectorizer\n",
    "from IPython.core.display import Image, display\n",
    "from IPython.core.display import HTML"
   ]
  },
  {
   "cell_type": "code",
   "execution_count": 2,
   "metadata": {},
   "outputs": [],
   "source": [
    "# Read the accident data from csv\n",
    "df_traffic = pd.read_csv('Traffic_Violations-api.csv', \n",
    "                           parse_dates = [['Date Of Stop', 'Time Of Stop']],\n",
    "                           infer_datetime_format = True)"
   ]
  },
  {
   "cell_type": "markdown",
   "metadata": {},
   "source": [
    "<b>More violation takes place in spring (Mar - May) compared to summer (June - Aug).</b>\n",
    "\n",
    "To test this hypothesis, first assume a null hypothesis that the number of violations are equal. We find that the the p-value is 0.0, which confirms that more violations takes place in spring compared to summer. "
   ]
  },
  {
   "cell_type": "code",
   "execution_count": 3,
   "metadata": {},
   "outputs": [
    {
     "name": "stdout",
     "output_type": "stream",
     "text": [
      "Total # of Violations in spring 391090.0\n",
      "Total # of Violations in summer 354074.0\n",
      "p-value:  0.0\n"
     ]
    }
   ],
   "source": [
    "# Create datetime column and series containing month information\n",
    "df_traffic['datetime'] = df_traffic['Date Of Stop_Time Of Stop']\n",
    "month = df_traffic.datetime.dt.month\n",
    "\n",
    "# Find the spring and summer subset and replace the data by 1 or 0\n",
    "springbool = (month>=3) & (month <= 5)\n",
    "summerbool = (month>=6) & (month <= 8)\n",
    "\n",
    "spring = month.where(springbool, 0)\n",
    "spring = spring.where(~springbool, 1)\n",
    "\n",
    "summer = month.where(summerbool, 0)\n",
    "summer = summer.where(~summerbool, 1)\n",
    "\n",
    "t_value, p_value = st.ttest_ind_from_stats(mean1 = spring.mean(), std1 = spring.std(), nobs1 = spring.count(),\n",
    "                                           mean2 = summer.mean(), std2 = summer.std(), nobs2 = summer.count())\n",
    "\n",
    "print('Total # of Violations in spring', spring.mean()*spring.count())\n",
    "print('Total # of Violations in summer', summer.mean()*summer.count())\n",
    "\n",
    "print('p-value: ', p_value)\n"
   ]
  },
  {
   "cell_type": "markdown",
   "metadata": {},
   "source": [
    "<b>More violations occur in late night (after 10 pm) rather than the busy traffic hours. </b>\n",
    "\n",
    "We set a null hypothesis that equal number of violations occur during busy hours and late night. The p-value of our statistical test is zero, which rejectes our null hypothesis. "
   ]
  },
  {
   "cell_type": "code",
   "execution_count": 4,
   "metadata": {
    "scrolled": false
   },
   "outputs": [
    {
     "name": "stdout",
     "output_type": "stream",
     "text": [
      "Total # of Violations in busy hours 122611.0\n",
      "Total # of Violations in late nights 213159.0\n",
      "p-value:  0.0\n"
     ]
    }
   ],
   "source": [
    "# Create datetime column and series containing month information\n",
    "hour = df_traffic.datetime.dt.hour\n",
    "\n",
    "latenightbool = (hour>=22) & (hour <= 24)\n",
    "busyhourbool =  (hour>=7) & (hour < 9)\n",
    "\n",
    "latenight = hour.where(latenightbool, 0)\n",
    "latenight = latenight.where(~latenightbool, 1)\n",
    "\n",
    "busyhour = hour.where(busyhourbool, 0)\n",
    "busyhour = busyhour.where(~busyhourbool, 1)\n",
    "\n",
    "t_value, p_value = st.ttest_ind_from_stats(mean1 = latenight.mean(), std1 = latenight.std(), nobs1 = latenight.count(),\n",
    "                                           mean2 = busyhour.mean(), std2 = busyhour.std(), nobs2 = busyhour.count())\n",
    "\n",
    "print('Total # of Violations in busy hours', busyhour.mean()*busyhour.count())\n",
    "print('Total # of Violations in late nights', latenight.mean()*latenight.count())\n",
    "\n",
    "print('p-value: ', p_value)"
   ]
  },
  {
   "cell_type": "markdown",
   "metadata": {},
   "source": [
    "<b>The citation probability is higher in the weekends rather than a busy weekday.</b>\n",
    "\n",
    "Null hypothesis: <i> The citation probability of all days are equal</i>\n",
    "\n",
    "The test below gives p-value of 0.012, which is greater than 1% level of significance. Hence we can not reject the null hypothesis. In other words, our statement that the citation probability depends on days of week is not statistically reliable. "
   ]
  },
  {
   "cell_type": "code",
   "execution_count": 5,
   "metadata": {},
   "outputs": [
    {
     "name": "stdout",
     "output_type": "stream",
     "text": [
      "Regression: 0.8670562212834654\n",
      "p-value: 0.011507235471835691\n"
     ]
    },
    {
     "data": {
      "image/png": "[encoded data removed]",
      "text/plain": [
       "<Figure size 432x288 with 1 Axes>"
      ]
     },
     "metadata": {
      "needs_background": "light"
     },
     "output_type": "display_data"
    }
   ],
   "source": [
    "df_traffic['day'] = df_traffic.datetime.dt.dayofweek\n",
    "df = df_traffic.groupby(['day', 'Violation Type']).count()\n",
    "ct_prob = list()\n",
    "\n",
    "n = 6\n",
    "ages = np.linspace(0,n, n+1)\n",
    "\n",
    "for age in ages:\n",
    "    citn = df.loc[(age, 'Citation'), 'Agency']\n",
    "    other = df.loc[(age, 'Warning'), 'Agency']\n",
    "    prob = citn/(citn + other)\n",
    "    ct_prob.append(prob)\n",
    "\n",
    "plt.plot(ages, ct_prob, 'ro', label = 'Origional Data')\n",
    "\n",
    "slope, intercept, rvalue, pvalue, std_err = st.linregress(ages,ct_prob)\n",
    "plt.plot(ages, intercept+slope*ages, 'b', label = 'Regression')\n",
    "\n",
    "plt.xlabel('Day of Week')\n",
    "plt.ylabel('Citation Probability')\n",
    "plt.legend()\n",
    "print('Regression:', rvalue)\n",
    "print('p-value:', pvalue)"
   ]
  },
  {
   "cell_type": "markdown",
   "metadata": {},
   "source": [
    "<b>Hispanic and Black drivers receive much more citations per warning compared to Asian and white drivers.</b>\n",
    "\n",
    "We consider a null hypothesis that both subgroups HISPANIC/BLACK and WHITE/ASIAN have same ratio of citations to warning. To test this hypothesis, we perform a statistical test. The p-value of our statistical test is 0, hence we can not reject our null hypothesis. This confirms that Hispanic and Black drivers receive much more citations per warning compared to Asian and white drivers."
   ]
  },
  {
   "cell_type": "code",
   "execution_count": 6,
   "metadata": {
    "scrolled": true
   },
   "outputs": [
    {
     "name": "stdout",
     "output_type": "stream",
     "text": [
      "Hispanic/Black citation probability: 0.5519977016683425\n",
      "Asian/White citation probability: 0.47191079539040043\n",
      "p-value:  0.0\n"
     ]
    }
   ],
   "source": [
    "hisblk = df_traffic[(df_traffic.Race == 'HISPANIC') | (df_traffic.Race == 'BLACK')]\\\n",
    "                   ['Violation Type']\n",
    "hisblk = pd.get_dummies(hisblk, drop_first = True)\n",
    "\n",
    "asnwht = df_traffic[(df_traffic.Race == 'ASIAN') | (df_traffic.Race == 'WHITE')]\\\n",
    "                   ['Violation Type']\n",
    "asnwht = pd.get_dummies(asnwht, drop_first = True)\n",
    "\n",
    "data1 = hisblk.Warning\n",
    "data2 = asnwht.Warning\n",
    "\n",
    "t_value, p_value = st.ttest_ind_from_stats(mean1 = data1.mean(), std1 = data1.std(), nobs1 = data1.count(),\n",
    "                                           mean2 = data2.mean(), std2 = data2.std(), nobs2 = data2.count())\n",
    "\n",
    "print('Hispanic/Black citation probability:', (data1.count() - data1.sum())/data1.count())\n",
    "print('Asian/White citation probability:', (data2.count() -data2.sum())/data2.count())\n",
    "\n",
    "print('p-value: ', p_value)"
   ]
  },
  {
   "cell_type": "code",
   "execution_count": 7,
   "metadata": {},
   "outputs": [],
   "source": [
    "# First convert into vector\n",
    "df_traffic.dropna(inplace = True)\n",
    "corpus = df_traffic.Description\n",
    "\n",
    "vectorizer = CountVectorizer(stop_words = 'english', \n",
    "                             strip_accents = 'ascii', \n",
    "                             min_df = 0.0, \n",
    "                             max_features = 100,\n",
    "                             token_pattern='[a-z]+',\n",
    "                             max_df = 1.0,\n",
    "                             binary  = True)\n",
    "\n",
    "X = vectorizer.fit_transform(corpus)"
   ]
  },
  {
   "cell_type": "code",
   "execution_count": 8,
   "metadata": {},
   "outputs": [],
   "source": [
    "# then group the dataframe by description column. This compress the size of Series by a \n",
    "#factor of 10\n",
    "\n",
    "df = df_traffic.loc[:, ['Color', 'Description']].groupby('Description').count()\n",
    "df.sort_values(by = 'Color', ascending = False, inplace = True)\n",
    "\n",
    "df.rename(index=str, columns={\"Color\": \"Count\"}, inplace = True)\n",
    "df.reset_index(inplace = True)\n",
    "\n",
    "# change the text into vector array\n",
    "X = vectorizer.transform(df.Description).toarray()\n",
    "\n",
    "# This function calculates the similarity of each rows to all other remaining rows, and return \n",
    "# the index of dataframe df that are similar. The tuning parameter factor choice. Higher value \n",
    "# factor means gives index of columns that are more similar\n",
    "def matching_text(text_vector, TEXT_ARRAY, factor = 0.7):\n",
    "    x1 = np.matmul(text_vector, TEXT_ARRAY.transpose())\n",
    "    x1 = x1/np.sqrt(np.sum(x1**2))\n",
    "    ind = np.argwhere(x1[0]> factor*x1[0].max())\n",
    "    return ind\n",
    "\n",
    "# High speed drivers ?\n",
    "df_copy = df_traffic.copy(deep = False)\n",
    "text = 'EXCEEDING SPEED LIMIT'\n",
    "X = vectorizer.transform(df_copy.Description).toarray()\n",
    "x = vectorizer.transform([text]).toarray()\n",
    "\n",
    "similarity = np.matmul(x, X.T)\n",
    "similarity = similarity/np.sqrt(np.sum(similarity**2))\n",
    "similarity =  similarity/np.max(similarity)\n",
    "\n",
    "df_copy['speeding'] = similarity.T\n",
    "df_copy.speeding = df_copy.speeding.where(df_copy.speeding < 0.66, 1)\n",
    "df_copy.speeding = df_copy.speeding.where(df_copy.speeding >= 0.66, 0)"
   ]
  },
  {
   "cell_type": "markdown",
   "metadata": {},
   "source": [
    "<b> White and Asian drivers generally cause speeding compared to Black and Hispanics. </b>\n",
    "\n",
    "Our analysis tells that Asian and White drivers cause more accidents compared to Black and Hispanics, although Black and Hispanics receive more citations compared to Asian and Whites. First, we set a null hypothesis that both category receive equal proportion of citation and warnings. From our statistical analysis, we obtain a p-value of 0, hence we can reject the null hypothesis. Hence, it is statistically significant that white and Asian cause more speeding. "
   ]
  },
  {
   "cell_type": "code",
   "execution_count": 9,
   "metadata": {},
   "outputs": [
    {
     "name": "stdout",
     "output_type": "stream",
     "text": [
      "Fraction of speeding drivers in Hispanic/Black: 0.0985534800449958\n",
      "Fraction of speeding drivers in Asian/White : 0.18301373025951742\n",
      "p-value:  0.0\n"
     ]
    }
   ],
   "source": [
    "hisblk = df_copy[(df_copy.Race == 'HISPANIC') | (df_copy.Race == 'BLACK')].speeding\n",
    "\n",
    "asnwht = df_copy[(df_copy.Race == 'ASIAN') | (df_copy.Race == 'WHITE')].speeding\n",
    "\n",
    "data1 = hisblk\n",
    "data2 = asnwht\n",
    "\n",
    "t_value, p_value = st.ttest_ind_from_stats(mean1 = data1.mean(), std1 = data1.std(), nobs1 = data1.count(),\n",
    "                                           mean2 = data2.mean(), std2 = data2.std(), nobs2 = data2.count())\n",
    "\n",
    "print('Fraction of speeding drivers in Hispanic/Black:', (data1.sum())/data1.count())\n",
    "print('Fraction of speeding drivers in Asian/White :', (data2.sum())/data2.count())\n",
    "\n",
    "print('p-value: ', p_value)"
   ]
  },
  {
   "cell_type": "markdown",
   "metadata": {},
   "source": [
    "<b> Women are more likely to cause speeding compared to men.</b>\n",
    "\n",
    "Similarly, we set a null hypothesis that women cause equal speeding compared to men. From the statistical test below, we obtain p-value of 0. Therefore we can <b>reject</b> the null hypothesis. "
   ]
  },
  {
   "cell_type": "code",
   "execution_count": 10,
   "metadata": {},
   "outputs": [
    {
     "name": "stdout",
     "output_type": "stream",
     "text": [
      "Fraction of female speeding drivers: 0.15991160664959067\n",
      "Fraction of male speeding drivers in Asian/White : 0.12546944817566272\n",
      "p-value:  0.0\n"
     ]
    }
   ],
   "source": [
    "women = df_copy[(df_copy.Gender == 'F')].speeding\n",
    "\n",
    "men = df_copy[(df_copy.Gender == 'M')].speeding\n",
    "\n",
    "data1 = women\n",
    "data2 = men\n",
    "\n",
    "t_value, p_value = st.ttest_ind_from_stats(mean1 = data1.mean(), std1 = data1.std(), nobs1 = data1.count(),\n",
    "                                           mean2 = data2.mean(), std2 = data2.std(), nobs2 = data2.count())\n",
    "\n",
    "print('Fraction of female speeding drivers:', (data1.sum())/data1.count())\n",
    "print('Fraction of male speeding drivers in Asian/White :', (data2.sum())/data2.count())\n",
    "\n",
    "print('p-value: ', p_value)"
   ]
  },
  {
   "cell_type": "markdown",
   "metadata": {},
   "source": [
    "<b> Drivers having new cars are more likely have speeding habits</b>\n",
    "\n",
    "We perform a linear regression on age and fraction of speeding drivers. This gives a pearson correlation coefficient of -0.98, which means the Age is negatively correlated with the fraction of speeding drivers, i.e. fraction of speeding drivers decreases with increasing age of the vehicle. \n",
    "\n",
    "The p-value of our analysis is extremely small $10^{-16}$, therefore, we can reject the null hypothesis that there is no correlation. This shows that it is real that drivers with new cars have more likely to have speeding habits. \n",
    "\n"
   ]
  },
  {
   "cell_type": "code",
   "execution_count": 11,
   "metadata": {},
   "outputs": [
    {
     "name": "stdout",
     "output_type": "stream",
     "text": [
      "Regression: -0.9849114153840799\n",
      "p-value: 6.144965002600786e-16\n"
     ]
    },
    {
     "data": {
      "image/png": "[encoded data removed]",
      "text/plain": [
       "<Figure size 432x288 with 1 Axes>"
      ]
     },
     "metadata": {
      "needs_background": "light"
     },
     "output_type": "display_data"
    }
   ],
   "source": [
    "df_copy['datetime'] = df_copy['Date Of Stop_Time Of Stop']\n",
    "df_copy['V_Age'] =  df_copy.datetime.dt.year - df_copy.Year \n",
    "real_bool = (df_copy.V_Age <= 70) & (df_copy.V_Age >= 0)\n",
    "year_med = np.median(df_copy[real_bool].V_Age)\n",
    "\n",
    "df_copy.V_Age = df_copy[['V_Age']].where(real_bool, year_med)\n",
    "\n",
    "df = df_copy.groupby(['V_Age', 'speeding']).count()\n",
    "ct_prob = list()\n",
    "\n",
    "n = 20\n",
    "ages = np.linspace(0,n, n+1)\n",
    "\n",
    "for age in ages:\n",
    "    speeding = df.loc[(age, 1), 'Agency']\n",
    "    other = df.loc[(age, 0), 'Agency']\n",
    "    prob = speeding/(speeding + other)\n",
    "    ct_prob.append(prob)\n",
    "\n",
    "plt.plot(ages, ct_prob, 'ro', label = 'Origional Data')\n",
    "\n",
    "slope, intercept, rvalue, pvalue, std_err = st.linregress(ages,ct_prob)\n",
    "plt.plot(ages, intercept+slope*ages, 'b', label = 'Regression')\n",
    "\n",
    "plt.xlabel('Age of Vehicle')\n",
    "plt.ylabel('Fraction of speeding drivers')\n",
    "plt.legend()\n",
    "print('Regression:', rvalue)\n",
    "print('p-value:', pvalue)\n"
   ]
  },
  {
   "cell_type": "markdown",
   "metadata": {},
   "source": [
    "<b>Women are also less involved in dangerous accidents. </b>\n",
    "\n",
    "First, we set a null hypothesis that women are equally involved in dangerous accidents as men. Our statistical analysis gives p-value of 0.03, which is not within 99% confidence interval. Therefore, we can not reject the null hypothesis. \n",
    "\n",
    "In other words, our analysis that women are less involved in dangerous accidents is not statistically significant. "
   ]
  },
  {
   "cell_type": "code",
   "execution_count": 12,
   "metadata": {},
   "outputs": [
    {
     "name": "stdout",
     "output_type": "stream",
     "text": [
      "Fraction of Female involved in accidents: [0.0233489]\n",
      "Fraction of Men involved in accident : [0.0239889]\n",
      "p-value:  [0.03022241]\n"
     ]
    }
   ],
   "source": [
    "women = df_traffic[(df_traffic.Gender == 'F')]['Contributed To Accident']\n",
    "women = pd.get_dummies(women, drop_first=True)\n",
    "men = df_traffic[(df_traffic.Gender == 'M')]['Contributed To Accident']\n",
    "men = pd.get_dummies(men, drop_first=True)\n",
    "\n",
    "t_value, p_value = st.ttest_ind_from_stats(mean1 = women.mean(), std1 = women.std(), nobs1 = women.count(),\n",
    "                                           mean2 = men.mean(), std2 = men.std(), nobs2 = men.count())\n",
    "\n",
    "print('Fraction of Female involved in accidents:', ((women.sum()/women.count()).values))\n",
    "print('Fraction of Men involved in accident :', ((men.sum()/men.count()).values))\n",
    "\n",
    "print('p-value: ', p_value)"
   ]
  },
  {
   "cell_type": "markdown",
   "metadata": {},
   "source": [
    "<b>Women receive less citations compared to men.</b>\n",
    "\n",
    "Null hypothesis: <i>Women receive equal citations compared to men</i>\n",
    "\n",
    "However, in this case, we obtain p-value of 0, hence we can reject the null hypothesis. "
   ]
  },
  {
   "cell_type": "code",
   "execution_count": 13,
   "metadata": {},
   "outputs": [
    {
     "name": "stdout",
     "output_type": "stream",
     "text": [
      "Male citation probability: 0.5037157119039846\n",
      "Female citation probability: 0.42465722464969113\n",
      "p-value:  0.0\n"
     ]
    }
   ],
   "source": [
    "men = df_traffic[(df_traffic.Gender == 'M')]['Violation Type']\n",
    "men = pd.get_dummies(men, drop_first = True)\n",
    "\n",
    "women = df_traffic[(df_traffic.Gender == 'F')]['Violation Type']\n",
    "women = pd.get_dummies(women, drop_first = True)\n",
    "\n",
    "men = men.Warning\n",
    "women = women.Warning\n",
    "\n",
    "t_value, p_value = st.ttest_ind_from_stats(mean1 = women.mean(), std1 = women.std(), nobs1 = women.count(),\n",
    "                                           mean2 = men.mean(), std2 = men.std(), nobs2 = men.count())\n",
    "\n",
    "print('Male citation probability:', (men.count() - men.sum())/men.count())\n",
    "print('Female citation probability:', (women.count() -women.sum())/women.count())\n",
    "\n",
    "print('p-value: ', p_value)"
   ]
  },
  {
   "cell_type": "markdown",
   "metadata": {},
   "source": [
    "<b>Women appear to get a newer vehicle compared to men.</b>\n",
    "\n",
    "Null hypothesis: <i>Women drive as old vehicle as men</i>\n",
    "\n",
    "Our statistical analysis gives p-value of 0, hence we can reject the null hypothesis. "
   ]
  },
  {
   "cell_type": "code",
   "execution_count": 14,
   "metadata": {},
   "outputs": [
    {
     "name": "stdout",
     "output_type": "stream",
     "text": [
      "Average age of Vehicle men drive: 9.394198156348983\n",
      "Average age of Vehicle women drive: 7.755828436542615\n",
      "p-value:  0.0\n"
     ]
    }
   ],
   "source": [
    "men = df_copy[(df_copy.Gender == 'M')]['V_Age']\n",
    "\n",
    "women = df_copy[(df_copy.Gender == 'F')]['V_Age']\n",
    "\n",
    "t_value, p_value = st.ttest_ind_from_stats(mean1 = women.mean(), std1 = women.std(), nobs1 = women.count(),\n",
    "                                           mean2 = men.mean(), std2 = men.std(), nobs2 = men.count())\n",
    "\n",
    "print('Average age of Vehicle men drive:', men.mean())\n",
    "print('Average age of Vehicle women drive:', women.mean())\n",
    "\n",
    "print('p-value: ', p_value)"
   ]
  },
  {
   "cell_type": "markdown",
   "metadata": {},
   "source": [
    "<b>Older vehicles are more likely to get citations compared to new vehicles.</b>\n",
    "\n",
    "We perform a linear regression on age and citation probability. We obtained a pearson correlation coefficient of 0.96, which means the Age is positively correlated with the citation probability, i.e. vehicles are more likely to recive citation as they get older.  \n",
    "\n",
    "Our null hypothesis that citation probability is independent of the age of vehicle. \n",
    "\n",
    "The p-value of our analysis is extremely small $10^{-13}$, therefore, we can reject the null hypothesis. Hence it is convincing that drivers with older cars are more likely to receive citations. "
   ]
  },
  {
   "cell_type": "code",
   "execution_count": 15,
   "metadata": {},
   "outputs": [
    {
     "name": "stdout",
     "output_type": "stream",
     "text": [
      "Regression: 0.9675081598825169\n",
      "p-value: 8.391850002661058e-13\n"
     ]
    },
    {
     "data": {
      "image/png": "[encoded data removed]",
      "text/plain": [
       "<Figure size 432x288 with 1 Axes>"
      ]
     },
     "metadata": {
      "needs_background": "light"
     },
     "output_type": "display_data"
    }
   ],
   "source": [
    "df = df_copy.groupby(['V_Age', 'Violation Type']).count()\n",
    "ct_prob = list()\n",
    "\n",
    "n = 20\n",
    "ages = np.linspace(0,n, n+1)\n",
    "\n",
    "for age in ages:\n",
    "    citn = df.loc[(age, 'Citation'), 'Agency']\n",
    "    other = df.loc[(age, 'Warning'), 'Agency']\n",
    "    prob = citn/(citn + other)\n",
    "    ct_prob.append(prob)\n",
    "\n",
    "plt.plot(ages, ct_prob, 'ro', label = 'Origional Data')\n",
    "\n",
    "slope, intercept, rvalue, pvalue, std_err = st.linregress(ages,ct_prob)\n",
    "plt.plot(ages, intercept+slope*ages, 'b', label = 'Regression')\n",
    "\n",
    "plt.xlabel('Age of Vehicle')\n",
    "plt.ylabel('Citation Probability')\n",
    "plt.legend()\n",
    "print('Regression:', rvalue)\n",
    "print('p-value:', pvalue)"
   ]
  },
  {
   "cell_type": "markdown",
   "metadata": {},
   "source": [
    "<b>The difference in citation probability is not just a racial bias but due to the age of the vehicle they drive. Among different races, the asian drivers drive newest vehicle (average age of 7.3 yrs) compared to hispanic drivers (average vehicle age 10.5 yrs). The citation probability scales well with the age of the vehicle. </b>\n",
    "\n",
    "To check the wheter or not this statement is statistically significant, we set a null hypothesis that Hispanic/Black drivers with new vehicle (age less than 1) have equal citation probability as compared to White/Asian drivers. We otbain a p-value in the order of $10^{-55}$, which means we can reject the null hypothesis. \n",
    "\n",
    "This means that the difference in citation probability among different races is not just the age of the vehicle they drive but there are other factors to be considered. "
   ]
  },
  {
   "cell_type": "code",
   "execution_count": 16,
   "metadata": {
    "scrolled": true
   },
   "outputs": [
    {
     "name": "stdout",
     "output_type": "stream",
     "text": [
      "Hispanic/Black citation probability: 0.5001930129318665\n",
      "Asian/White citation probability: 0.42743159615459464\n",
      "p-value:  2.9935176572032782e-55\n"
     ]
    }
   ],
   "source": [
    "df_new = df_copy[df_copy.V_Age <= 0]\n",
    "hisblk = df_new[(df_new.Race == 'HISPANIC') | (df_new.Race == 'BLACK')]\\\n",
    "                   ['Violation Type']\n",
    "hisblk = pd.get_dummies(hisblk, drop_first = True)\n",
    "\n",
    "asnwht = df_new[(df_new.Race == 'ASIAN') | (df_new.Race == 'WHITE')]\\\n",
    "                   ['Violation Type']\n",
    "asnwht = pd.get_dummies(asnwht, drop_first = True)\n",
    "\n",
    "data1 = hisblk.Warning\n",
    "data2 = asnwht.Warning\n",
    "\n",
    "t_value, p_value = st.ttest_ind_from_stats(mean1 = data1.mean(), std1 = data1.std(), nobs1 = data1.count(),\n",
    "                                           mean2 = data2.mean(), std2 = data2.std(), nobs2 = data2.count())\n",
    "\n",
    "print('Hispanic/Black citation probability:', (data1.count() - data1.sum())/data1.count())\n",
    "print('Asian/White citation probability:', (data2.count() -data2.sum())/data2.count())\n",
    "\n",
    "print('p-value: ', p_value)"
   ]
  }
 ],
 "metadata": {
  "kernelspec": {
   "display_name": "Python 3",
   "language": "python",
   "name": "python3"
  },
  "language_info": {
   "codemirror_mode": {
    "name": "ipython",
    "version": 3
   },
   "file_extension": ".py",
   "mimetype": "text/x-python",
   "name": "python",
   "nbconvert_exporter": "python",
   "pygments_lexer": "ipython3",
   "version": "3.7.0"
  }
 },
 "nbformat": 4,
 "nbformat_minor": 2
}
