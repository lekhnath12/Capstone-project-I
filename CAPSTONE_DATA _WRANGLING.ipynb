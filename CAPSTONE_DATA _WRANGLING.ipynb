{
 "cells": [
  {
   "cell_type": "code",
   "execution_count": 102,
   "metadata": {
    "collapsed": true
   },
   "outputs": [],
   "source": [
    "# Import necessary modules\n",
    "import pandas as pd\n",
    "import matplotlib.pyplot as plt\n",
    "import numpy as np\n",
    "import gmplot as gp\n",
    "from datetime import datetime"
   ]
  },
  {
   "cell_type": "code",
   "execution_count": 103,
   "metadata": {},
   "outputs": [],
   "source": [
    "# Read the accident data from csv\n",
    "violation_df = pd.read_csv('Traffic_Violations-api.csv', \n",
    "                           parse_dates = [['Date Of Stop', 'Time Of Stop']],\n",
    "                           infer_datetime_format = True)\n"
   ]
  },
  {
   "cell_type": "code",
   "execution_count": 104,
   "metadata": {},
   "outputs": [
    {
     "name": "stdout",
     "output_type": "stream",
     "text": [
      "<class 'pandas.core.frame.DataFrame'>\n",
      "RangeIndex: 1384236 entries, 0 to 1384235\n",
      "Data columns (total 34 columns):\n",
      "Date Of Stop_Time Of Stop    1384236 non-null datetime64[ns]\n",
      "Agency                       1384236 non-null object\n",
      "SubAgency                    1384226 non-null object\n",
      "Description                  1384227 non-null object\n",
      "Location                     1384234 non-null object\n",
      "Latitude                     1283334 non-null float64\n",
      "Longitude                    1283334 non-null float64\n",
      "Accident                     1384236 non-null object\n",
      "Belts                        1384236 non-null object\n",
      "Personal Injury              1384236 non-null object\n",
      "Property Damage              1384236 non-null object\n",
      "Fatal                        1384236 non-null object\n",
      "Commercial License           1384236 non-null object\n",
      "HAZMAT                       1384236 non-null object\n",
      "Commercial Vehicle           1384236 non-null object\n",
      "Alcohol                      1384236 non-null object\n",
      "Work Zone                    1384236 non-null object\n",
      "State                        1384177 non-null object\n",
      "VehicleType                  1384236 non-null object\n",
      "Year                         1375769 non-null float64\n",
      "Make                         1384179 non-null object\n",
      "Model                        1384046 non-null object\n",
      "Color                        1367433 non-null object\n",
      "Violation Type               1384236 non-null object\n",
      "Charge                       1384236 non-null object\n",
      "Article                      1314986 non-null object\n",
      "Contributed To Accident      1384236 non-null object\n",
      "Race                         1384236 non-null object\n",
      "Gender                       1384236 non-null object\n",
      "Driver City                  1383956 non-null object\n",
      "Driver State                 1384225 non-null object\n",
      "DL State                     1383307 non-null object\n",
      "Arrest Type                  1384236 non-null object\n",
      "Geolocation                  1283334 non-null object\n",
      "dtypes: datetime64[ns](1), float64(3), object(30)\n",
      "memory usage: 359.1+ MB\n"
     ]
    }
   ],
   "source": [
    "violation_df.info()"
   ]
  },
  {
   "cell_type": "code",
   "execution_count": 105,
   "metadata": {
    "collapsed": true
   },
   "outputs": [],
   "source": [
    "#change the index to datetime\n",
    "violation_df.index = violation_df['Date Of Stop_Time Of Stop']\n",
    "\n",
    "#delete data with Nan\n",
    "viol_df_clean = violation_df.dropna(how = 'any')\n",
    "\n",
    "#This eliminates unncessary and duplicate columns from the data\n",
    "viol_df_clean = viol_df_clean.drop(['Agency','Driver State','State', 'Geolocation',\n",
    "                                  'Driver City','Charge', 'Location'], \n",
    "                                   axis = 1)\n",
    "\n",
    "# transforms the column into two variable columns\n",
    "viol_df_clean.loc[:,'Race'].replace(to_replace = ['BLACK', 'HISPANIC', \n",
    "                                                   'NATIVE AMERICAN', 'OTHER', 'ASIAN'], \n",
    "                                                    value = 'Non-WHITE', inplace = True)\n",
    "\n",
    "viol_df_clean.loc[:, 'VehicleType'].replace(to_replace = ['28 - Other', '05 - Light Duty Truck',\n",
    "                                                          '10 - Transit Bus', '03 - Station Wagon', \n",
    "                                                          '01 - Motorcycle', '20 - Commercial Rig',\n",
    "                                                          '06 - Heavy Duty Truck','08 - Recreational Vehicle', \n",
    "                                                          '04 - Limousine', '07 - Truck/Road Tractor', \n",
    "                                                          '19 - Moped', '09 - Farm Vehicle', '25 - Utility Trailer',\n",
    "                                                          '21 - Tandem Trailer', '26 - Boat Trailer', '12 - School Bus',\n",
    "                                                          '16 - Fire(Non-Emerg)', '27 - Farm Equipment',\n",
    "                                                          '11 - Cross Country Bus', '29 - Unknown', '18 - Police Vehicle',\n",
    "                                                           '13 - Ambulance(Emerg)', '18 - Police(Non-Emerg)', '13 - Ambulance',\n",
    "                                                           '22 - Mobile Home', '24 - Camper', '23 - Travel/Home Trailer',\n",
    "                                                           '15 - Fire(Emerg)', '14 - Ambulance(Non-Emerg)',\n",
    "                                                           '15 - Fire Vehicle', '17 - Police(Emerg)'], \n",
    "                                                          value = 'Non-AUTO',\n",
    "                                                          inplace = True)\n",
    "\n",
    "viol_df_clean.loc[:,'DL State'].replace(to_replace = ['VA', 'WV', 'DC', 'ME', 'NC', 'OH', 'CA', 'FL', 'XX', 'AZ',\n",
    "                                                      'NY',  'PA', 'LA', 'WA', 'MA', 'GA', 'IL', 'AR', 'VI', 'OK', \n",
    "                                                      'NJ', 'CT', 'HI', 'SC', 'KY', 'TX', 'DE', 'UT', 'NV', 'MO', \n",
    "                                                      'MI', 'AL', 'ON',   'OR', 'ND', 'US', 'TN', 'CO', 'RI', 'NH',\n",
    "                                                      'IA', 'AK', 'IN', 'PR', 'ID', 'NM', 'KS', 'WI', 'MS', 'AB', \n",
    "                                                      'VT', 'MB', 'NE', 'MT', 'MN', 'SD', 'SK', 'IT', 'QC','WY', \n",
    "                                                      'PE', 'GU', 'MH', 'AS', 'NB', 'BC', 'NS', 'PQ', 'NF'], \n",
    "                                                       value = 'Out-ofSTATE', inplace = True)\n",
    "\n",
    "# This selects the columns that are categorical \n",
    "df_categorical = viol_df_clean[['Accident', 'Belts', 'Personal Injury', 'Property Damage', 'Fatal',\n",
    "                                'Commercial License', 'HAZMAT', 'Commercial Vehicle', 'Alcohol',\n",
    "                                'Work Zone', 'VehicleType', 'Violation Type', 'Article', 'Contributed To Accident',\n",
    "                                'Race', 'Gender', 'DL State']]\n",
    "\n",
    "# copy the categorical columns so that it forgets the origional indices\n",
    "df_cat = df_categorical.copy(deep =  False)\n",
    "\n",
    "# Translate the data into dummy binary\n",
    "df_cat_dumm = pd.get_dummies(df_cat, drop_first = True)\n",
    "\n",
    "# numerical portion of the data \n",
    "df_numerical = viol_df_clean[['Latitude', 'Longitude', 'Year']]\n",
    "\n",
    "# This data can't be converted into binary dummy but still keep it\n",
    "df_none = viol_df_clean[['Description', 'Make', 'Model', 'Color' ]]\n",
    "\n",
    "# combine all the data\n",
    "df_traffic = pd.concat([df_cat_dumm, df_numerical, df_none], axis = 1)\n"
   ]
  },
  {
   "cell_type": "code",
   "execution_count": 106,
   "metadata": {},
   "outputs": [
    {
     "name": "stdout",
     "output_type": "stream",
     "text": [
      "<class 'pandas.core.frame.DataFrame'>\n",
      "DatetimeIndex: 1202144 entries, 2017-08-29 10:19:00 to 2018-09-27 08:29:00\n",
      "Data columns (total 24 columns):\n",
      "Belts_Yes                         1202144 non-null uint8\n",
      "Personal Injury_Yes               1202144 non-null uint8\n",
      "Property Damage_Yes               1202144 non-null uint8\n",
      "Fatal_Yes                         1202144 non-null uint8\n",
      "Commercial License_Yes            1202144 non-null uint8\n",
      "HAZMAT_Yes                        1202144 non-null uint8\n",
      "Commercial Vehicle_Yes            1202144 non-null uint8\n",
      "Alcohol_Yes                       1202144 non-null uint8\n",
      "Work Zone_Yes                     1202144 non-null uint8\n",
      "VehicleType_Non-AUTO              1202144 non-null uint8\n",
      "Violation Type_Warning            1202144 non-null uint8\n",
      "Article_Transportation Article    1202144 non-null uint8\n",
      "Contributed To Accident_Yes       1202144 non-null uint8\n",
      "Race_WHITE                        1202144 non-null uint8\n",
      "Gender_M                          1202144 non-null uint8\n",
      "Gender_U                          1202144 non-null uint8\n",
      "DL State_Out-ofSTATE              1202144 non-null uint8\n",
      "Latitude                          1202144 non-null float64\n",
      "Longitude                         1202144 non-null float64\n",
      "Year                              1202144 non-null float64\n",
      "Description                       1202144 non-null object\n",
      "Make                              1202144 non-null object\n",
      "Model                             1202144 non-null object\n",
      "Color                             1202144 non-null object\n",
      "dtypes: float64(3), object(4), uint8(17)\n",
      "memory usage: 92.9+ MB\n"
     ]
    }
   ],
   "source": [
    "df_traffic.info()"
   ]
  },
  {
   "cell_type": "code",
   "execution_count": null,
   "metadata": {
    "collapsed": true
   },
   "outputs": [],
   "source": []
  }
 ],
 "metadata": {
  "kernelspec": {
   "display_name": "Python 3",
   "language": "python",
   "name": "python3"
  },
  "language_info": {
   "codemirror_mode": {
    "name": "ipython",
    "version": 3
   },
   "file_extension": ".py",
   "mimetype": "text/x-python",
   "name": "python",
   "nbconvert_exporter": "python",
   "pygments_lexer": "ipython3",
   "version": "3.6.1"
  }
 },
 "nbformat": 4,
 "nbformat_minor": 2
}
