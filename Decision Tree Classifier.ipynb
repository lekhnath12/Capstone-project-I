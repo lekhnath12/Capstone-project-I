{
 "cells": [
  {
   "cell_type": "markdown",
   "metadata": {},
   "source": [
    "<h2><center> Decision Tree Classifier</center></h2>\n",
    "\n",
    "In this section, we do a statistical modelling of the data using Decision Tree. "
   ]
  },
  {
   "cell_type": "code",
   "execution_count": 1,
   "metadata": {},
   "outputs": [
    {
     "name": "stderr",
     "output_type": "stream",
     "text": [
      "C:\\Users\\lnp2\\AppData\\Roaming\\Python\\Python37\\site-packages\\ipykernel\\parentpoller.py:116: UserWarning: Parent poll failed.  If the frontend dies,\n",
      "                the kernel may be left running.  Please let us know\n",
      "                about your system (bitness, Python, etc.) at\n",
      "                ipython-dev@scipy.org\n",
      "  ipython-dev@scipy.org\"\"\")\n"
     ]
    }
   ],
   "source": [
    "import pandas as pd\n",
    "import matplotlib.pyplot as plt\n",
    "import numpy as np\n",
    "import seaborn as sns\n",
    "from sklearn.model_selection import train_test_split, GridSearchCV, RandomizedSearchCV\n",
    "from sklearn import metrics\n",
    "from sklearn.metrics import classification_report, roc_curve, confusion_matrix\n",
    "from sklearn.model_selection import cross_val_score\n",
    "from sklearn.metrics import roc_auc_score\n",
    "from sklearn.tree import DecisionTreeClassifier"
   ]
  },
  {
   "cell_type": "code",
   "execution_count": 2,
   "metadata": {},
   "outputs": [],
   "source": [
    "# Read the accident data from csv\n",
    "df_traffic = pd.read_csv('data_wrangled.csv', \n",
    "                         index_col = 'Date Of Stop_Time Of Stop',\n",
    "                         parse_dates = True,\n",
    "                         infer_datetime_format = True)\n",
    "\n",
    "df_traffic['V_sage'] = (df_traffic.V_Age - df_traffic.V_Age.min())/\\\n",
    "                  (df_traffic.V_Age.max() - df_traffic.V_Age.min())\n",
    "\n",
    "not_relevant = ['Latitude', 'Longitude', 'Year', 'Description', \n",
    "                'Make', 'Model', 'Color', 'datetime', 'V_Age']\n",
    "df_traffic.drop(labels = not_relevant, axis = 1,  inplace = True)"
   ]
  },
  {
   "cell_type": "code",
   "execution_count": 3,
   "metadata": {},
   "outputs": [],
   "source": [
    "# Get X and y from data \n",
    "y = df_traffic['Violation Type_Warning']\n",
    "df_X1 = df_traffic.drop('Violation Type_Warning', axis = 1)\n",
    "X = df_X1.values\n",
    "\n",
    "# now,  do a Logistic regression to the data. \n",
    "X_train, X_test, y_train, y_test = train_test_split(X, y, \n",
    "                                   test_size = 0.5, \n",
    "                                    random_state=77)"
   ]
  },
  {
   "cell_type": "code",
   "execution_count": 4,
   "metadata": {},
   "outputs": [
    {
     "name": "stdout",
     "output_type": "stream",
     "text": [
      "Tuned Decision Tree Parameters: {'random_state': 77, 'min_weight_fraction_leaf': 0, 'min_samples_leaf': 159, 'max_depth': 39, 'class_weight': 'balanced'}\n",
      "Best score is 0.7694535762770517\n"
     ]
    }
   ],
   "source": [
    "# Setup the hyperparameter grid \n",
    "param_grid = {'max_depth': [39], \n",
    "             'min_samples_leaf': np.arange(1,500,2), \n",
    "             'min_weight_fraction_leaf': [0], \n",
    "             'random_state' : [77], 'class_weight': ['balanced']}\n",
    "\n",
    "# Instantiate a model\n",
    "model_tree = DecisionTreeClassifier()\n",
    "\n",
    "# Instantiate the GridSearchCV object: \n",
    "model_cv = RandomizedSearchCV(model_tree, param_grid, \n",
    "                              cv = 5, \n",
    "                              n_jobs = -1)\n",
    "\n",
    "# Fit it to the data\n",
    "model_cv.fit(X, y)\n",
    "\n",
    "# Print the tuned parameters and score\n",
    "print(\"Tuned Decision Tree Parameters: {}\".format(model_cv.best_params_)) \n",
    "print(\"Best score is {}\".format(model_cv.best_score_))"
   ]
  },
  {
   "cell_type": "code",
   "execution_count": 5,
   "metadata": {},
   "outputs": [
    {
     "name": "stdout",
     "output_type": "stream",
     "text": [
      "[[199118  88046]\n",
      " [ 48509 265399]]\n",
      "             precision    recall  f1-score   support\n",
      "\n",
      "    Citaton       0.80      0.69      0.74    287164\n",
      "    Warning       0.75      0.85      0.80    313908\n",
      "\n",
      "avg / total       0.78      0.77      0.77    601072\n",
      "\n",
      "AUC: 0.8593702304684427\n"
     ]
    },
    {
     "data": {
      "image/png": "[encoded data removed]",
      "text/plain": [
       "<Figure size 432x288 with 1 Axes>"
      ]
     },
     "metadata": {
      "needs_background": "light"
     },
     "output_type": "display_data"
    }
   ],
   "source": [
    "model_tree = DecisionTreeClassifier(max_depth = 39, \n",
    "                                    min_weight_fraction_leaf = 0,\n",
    "                                    min_samples_leaf = 127,\n",
    "                                    class_weight = 'balanced',\n",
    "                                    random_state = 77)\n",
    "\n",
    "model_tree.fit(X_train, y_train)\n",
    "\n",
    "y_pred = model_tree.predict(X_test)\n",
    "\n",
    "print(confusion_matrix(y_test, y_pred))\n",
    "print(classification_report(y_test, y_pred,  target_names = ['Citaton', 'Warning']))\n",
    "\n",
    "y_pred_prob = model_tree.predict_proba(X_test)[:,1]\n",
    "\n",
    "fpr_dt,tpr_dt, thresholds = roc_curve(y_test, y_pred_prob)\n",
    "\n",
    "print(\"AUC: {}\".format(roc_auc_score(y_test, y_pred_prob)))\n",
    "\n",
    "plt.plot([0, 1], [0, 1], 'k--')\n",
    "plt.plot(fpr_dt, tpr_dt, 'g',label = 'Decision Tree Classifier')\n",
    "plt.xlabel('False Positive Rate')\n",
    "plt.ylabel('True Positive Rate')\n",
    "plt.title('ROC Curve')\n",
    "plt.legend()\n",
    "plt.show()\n"
   ]
  },
  {
   "cell_type": "code",
   "execution_count": 6,
   "metadata": {},
   "outputs": [
    {
     "data": {
      "text/plain": [
       "['Decision_tree.joblib']"
      ]
     },
     "execution_count": 6,
     "metadata": {},
     "output_type": "execute_result"
    }
   ],
   "source": [
    "from joblib import dump, load\n",
    "dump(model_tree, 'Decision_tree.joblib') "
   ]
  }
 ],
 "metadata": {
  "kernelspec": {
   "display_name": "Python 3",
   "language": "python",
   "name": "python3"
  },
  "language_info": {
   "codemirror_mode": {
    "name": "ipython",
    "version": 3
   },
   "file_extension": ".py",
   "mimetype": "text/x-python",
   "name": "python",
   "nbconvert_exporter": "python",
   "pygments_lexer": "ipython3",
   "version": "3.7.0"
  }
 },
 "nbformat": 4,
 "nbformat_minor": 2
}
